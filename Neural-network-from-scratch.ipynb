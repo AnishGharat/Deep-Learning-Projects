{
 "cells": [
  {
   "cell_type": "code",
   "execution_count": 10,
   "id": "cf9ea599",
   "metadata": {},
   "outputs": [],
   "source": [
    "import numpy as np\n",
    "import matplotlib.pyplot as plt"
   ]
  },
  {
   "cell_type": "code",
   "execution_count": 11,
   "id": "ab85ba00",
   "metadata": {},
   "outputs": [],
   "source": [
    "# activation functions\n",
    "def sigmoid(z):\n",
    "    a = 1/(1+np.exp(-z))\n",
    "    return a\n",
    "\n",
    "def tanh(z):\n",
    "    a = (np.exp(z)-np.exp(-z))/(np.exp(z)+np.exp(-z))\n",
    "    return a\n",
    "\n",
    "def relu(z):\n",
    "    a = np.maximum(0,z)\n",
    "    return a\n",
    "\n",
    "def leaky(z):\n",
    "    a = np.maximum(0.01*z,z) #doing (0.01,z) is okay too\n",
    "    return a\n",
    "\n",
    "def softmax(z):\n",
    "    e = np.exp(z)\n",
    "    a = e/e.sum()\n",
    "    return a"
   ]
  },
  {
   "cell_type": "code",
   "execution_count": 12,
   "id": "02eb8e2e",
   "metadata": {},
   "outputs": [],
   "source": [
    "#derivatives\n",
    "def dsigmoid(a):\n",
    "    d = a*(1-a)\n",
    "    return d\n",
    "\n",
    "def dtanh(a):\n",
    "    d = (1-a**2)\n",
    "    return d\n",
    "\n",
    "def drelu(a):\n",
    "    d = (np.int64(s>0)) #s>0 creates boolean array, +ve = T, -ve = f. np.int4 converts T to 1 and F to 0\n",
    "    return d\n",
    "\n",
    "def dleaky(a,alpha = 0.01):\n",
    "    d = np.where(s>0.01,1,alpha)\n",
    "    return d"
   ]
  },
  {
   "cell_type": "code",
   "execution_count": 13,
   "id": "c8de7fb0",
   "metadata": {},
   "outputs": [
    {
     "name": "stdout",
     "output_type": "stream",
     "text": [
      "{'w1': array([[0.00435995, 0.00025926],\n",
      "       [0.00549662, 0.00435322],\n",
      "       [0.00420368, 0.00330335],\n",
      "       [0.00204649, 0.00619271]]), 'b1': array([[0.],\n",
      "       [0.],\n",
      "       [0.],\n",
      "       [0.]]), 'w2': array([[0.00299655, 0.00266827, 0.00621134, 0.00529142]]), 'b2': array([[0.]])}\n",
      "cost is: 0.6931720340547977\n"
     ]
    }
   ],
   "source": [
    "nx = 2\n",
    "m=3\n",
    "x = np.random.randn(2,3)\n",
    "y = (np.random.randn(1,3)>0)\n",
    "\n",
    "# forward propagation\n",
    "def layers_size(x,y,node):\n",
    "    nx = x.shape[0]\n",
    "    nh = node\n",
    "    ny = y.shape[0]\n",
    "    return nx,nh,ny\n",
    "\n",
    "def intz(nx,nh,ny):\n",
    "    np.random.seed(2)\n",
    "    w1 = np.random.rand(nh,nx)*0.01\n",
    "    b1 = np.zeros((nh,1))\n",
    "    w2 = np.random.rand(ny,nh)*0.01\n",
    "    b2 = np.zeros((ny,1))\n",
    "    parameters={'w1':w1,'b1':b1,'w2':w2,'b2':b2}\n",
    "    return parameters\n",
    "\n",
    "def fwd(x,parameters):\n",
    "    w1 = parameters['w1']\n",
    "    b1 = parameters['b1']\n",
    "    w2 = parameters['w2']\n",
    "    b2 = parameters['b2']\n",
    "    z1 = np.dot(w1,x) + b1\n",
    "    a1 = tanh(z1)\n",
    "    z2 = np.dot(w2,a1) + b2\n",
    "    a2 = sigmoid(z2)\n",
    "    cache={'z1':z1,'z2':z2,'a1':a1,'a2':a2}\n",
    "    return a2,cache\n",
    "\n",
    "def compute_cost(a2,y):\n",
    "    m = y.shape[1]\n",
    "    logp = np.multiply(np.log(a2),y) + np.multiply(np.log(1-a2),(1-y)) #logistic loss function\n",
    "    cost = -np.sum(logp)/m\n",
    "    cost = float(np.squeeze(cost))\n",
    "    return cost\n",
    "    \n",
    "nx,nh,ny = layers_size(x,y,4)\n",
    "parameters = intz(nx,nh,ny)\n",
    "a2,cache = fwd(x,parameters)\n",
    "print(parameters)\n",
    "print('cost is:',compute_cost(a2,y))"
   ]
  },
  {
   "cell_type": "code",
   "execution_count": 14,
   "id": "1ff4ef7b",
   "metadata": {},
   "outputs": [
    {
     "name": "stdout",
     "output_type": "stream",
     "text": [
      "iteration: 0 cost is: 0.693172\n",
      "iteration: 100 cost is: 0.671273\n",
      "iteration: 200 cost is: 0.657961\n",
      "iteration: 300 cost is: 0.649822\n",
      "iteration: 400 cost is: 0.644808\n",
      "iteration: 500 cost is: 0.641691\n",
      "iteration: 600 cost is: 0.639728\n",
      "iteration: 700 cost is: 0.638456\n",
      "iteration: 800 cost is: 0.637579\n",
      "iteration: 900 cost is: 0.636877\n"
     ]
    },
    {
     "data": {
      "text/plain": [
       "{'w1': array([[ 0.01308037,  0.0022315 ],\n",
       "        [ 0.04122712,  0.01288472],\n",
       "        [-0.0173667 , -0.00221187],\n",
       "        [-0.02160425,  0.00021953]]),\n",
       " 'w2': array([[-0.01288991, -0.04283934,  0.01812845,  0.02155288]]),\n",
       " 'b1': array([[ 0.00028204],\n",
       "        [ 0.00317666],\n",
       "        [-0.0035085 ],\n",
       "        [-0.00351985]]),\n",
       " 'b2': array([[-0.62429609]])}"
      ]
     },
     "execution_count": 14,
     "metadata": {},
     "output_type": "execute_result"
    },
    {
     "data": {
      "image/png": "[encoded data removed]",
      "text/plain": [
       "<Figure size 640x480 with 1 Axes>"
      ]
     },
     "metadata": {},
     "output_type": "display_data"
    }
   ],
   "source": [
    "# Backward Propagation\n",
    "def bwp(parameters,x,y,cache):\n",
    "    w1 = parameters['w1']\n",
    "    b1 = parameters['b1']\n",
    "    w2 = parameters['w2']\n",
    "    b2 = parameters['b2']\n",
    "    a1 = cache['a1']\n",
    "    a2 = cache['a2']\n",
    "    m = y.shape[1]\n",
    "    dz2 = a2-y\n",
    "    dw2 = np.dot(dz2,a1.T)/m\n",
    "    db2 = np.sum(dz2,axis=1,keepdims=True)/m #axis = 1 does sum horizontally\n",
    "    da1 = np.dot(w2.T,dz2)\n",
    "    \n",
    "    dz1 = da1*dtanh(a1) #instead of dtanh u can write (1-np.power(a1,2)) or (1-a)**2\n",
    "    dw1 = np.dot(dz1,x.T)/m\n",
    "    db1 = np.sum(dz1,axis=1,keepdims=True)/m\n",
    "    grads = {'dw1':dw1,'dw2':dw2,'db1':db1,'db2':db2}\n",
    "    return grads    \n",
    "\n",
    "def update(parameters,grads,lr):\n",
    "    w1 = parameters['w1']\n",
    "    b1 = parameters['b1']\n",
    "    w2 = parameters['w2']\n",
    "    b2 = parameters['b2']\n",
    "    \n",
    "    dw1 = grads['dw1']\n",
    "    db1 = grads['db1']\n",
    "    dw2 = grads['dw2']\n",
    "    db2 = grads['db2']\n",
    "    \n",
    "    w1 = w1 - lr * dw1\n",
    "    w2 = w2 - lr * dw2\n",
    "    b1 = b1 - lr * db1\n",
    "    b2 = b2 - lr * db2\n",
    "    \n",
    "    parameters = {'w1':w1,'w2':w2,'b1':b1,'b2':b2}\n",
    "    return parameters \n",
    "\n",
    "def nn(x,y,epoch=1000,print_cost = True, lr = 0.01):\n",
    "    np.random.seed(1)\n",
    "    nx,nh,ny =layers_size(x,y,4)\n",
    "    parameters = intz(nx,nh,ny)\n",
    "    costs = []\n",
    "    for i in range(epoch):\n",
    "        a2,cache = fwd(x,parameters)\n",
    "        cost = compute_cost(a2,y)\n",
    "        grads = bwp(parameters,x,y,cache)\n",
    "        parameters = update(parameters,grads,lr)\n",
    "        if print_cost and i%100 == 0:\n",
    "            print(\"iteration: %i cost is: %f\"%(i,cost))\n",
    "            costs.append(cost)\n",
    "    plt.plot(costs)\n",
    "    return parameters\n",
    "nn(x,y)"
   ]
  },
  {
   "cell_type": "code",
   "execution_count": null,
   "id": "18f21c4f",
   "metadata": {},
   "outputs": [],
   "source": []
  }
 ],
 "metadata": {
  "kernelspec": {
   "display_name": "Python 3 (ipykernel)",
   "language": "python",
   "name": "python3"
  },
  "language_info": {
   "codemirror_mode": {
    "name": "ipython",
    "version": 3
   },
   "file_extension": ".py",
   "mimetype": "text/x-python",
   "name": "python",
   "nbconvert_exporter": "python",
   "pygments_lexer": "ipython3",
   "version": "3.9.13"
  }
 },
 "nbformat": 4,
 "nbformat_minor": 5
}
